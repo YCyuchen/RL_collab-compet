{
 "cells": [
  {
   "cell_type": "markdown",
   "metadata": {},
   "source": [
    "# Collaboration and Competition\n",
    "\n",
    "---\n",
    "\n",
    "You are welcome to use this coding environment to train your agent for the project.  Follow the instructions below to get started!\n",
    "\n",
    "### 1. Start the Environment\n",
    "\n",
    "Run the next code cell to install a few packages.  This line will take a few minutes to run!"
   ]
  },
  {
   "cell_type": "code",
   "execution_count": 1,
   "metadata": {},
   "outputs": [],
   "source": [
    "!pip -q install ./python"
   ]
  },
  {
   "cell_type": "markdown",
   "metadata": {},
   "source": [
    "The environment is already saved in the Workspace and can be accessed at the file path provided below. "
   ]
  },
  {
   "cell_type": "code",
   "execution_count": 2,
   "metadata": {},
   "outputs": [
    {
     "name": "stderr",
     "output_type": "stream",
     "text": [
      "INFO:unityagents:\n",
      "'Academy' started successfully!\n",
      "Unity Academy name: Academy\n",
      "        Number of Brains: 1\n",
      "        Number of External Brains : 1\n",
      "        Lesson number : 0\n",
      "        Reset Parameters :\n",
      "\t\t\n",
      "Unity brain name: TennisBrain\n",
      "        Number of Visual Observations (per agent): 0\n",
      "        Vector Observation space type: continuous\n",
      "        Vector Observation space size (per agent): 8\n",
      "        Number of stacked Vector Observation: 3\n",
      "        Vector Action space type: continuous\n",
      "        Vector Action space size (per agent): 2\n",
      "        Vector Action descriptions: , \n"
     ]
    }
   ],
   "source": [
    "from unityagents import UnityEnvironment\n",
    "import numpy as np\n",
    "from ddpg_agent import Agent\n",
    "import torch\n",
    "from collections import deque\n",
    "\n",
    "env = UnityEnvironment(file_name=\"/data/Tennis_Linux_NoVis/Tennis\")"
   ]
  },
  {
   "cell_type": "markdown",
   "metadata": {},
   "source": [
    "Environments contain **_brains_** which are responsible for deciding the actions of their associated agents. Here we check for the first brain available, and set it as the default brain we will be controlling from Python."
   ]
  },
  {
   "cell_type": "markdown",
   "metadata": {},
   "source": [
    "### 2. Visualize the environment info"
   ]
  },
  {
   "cell_type": "code",
   "execution_count": 3,
   "metadata": {},
   "outputs": [
    {
     "name": "stdout",
     "output_type": "stream",
     "text": [
      "Number of agents: 2\n",
      "Size of each action: 2\n",
      "There are 2 agents. Each observes a state with length: 24\n",
      "The state for the first agent looks like: [ 0.          0.          0.          0.          0.          0.          0.\n",
      "  0.          0.          0.          0.          0.          0.          0.\n",
      "  0.          0.         -6.65278625 -1.5        -0.          0.\n",
      "  6.83172083  6.         -0.          0.        ]\n"
     ]
    }
   ],
   "source": [
    "# get the default brain\n",
    "brain_name = env.brain_names[0]\n",
    "brain = env.brains[brain_name]\n",
    "\n",
    "# reset the environment\n",
    "env_info = env.reset(train_mode=True)[brain_name]\n",
    "\n",
    "# number of agents\n",
    "num_agents = len(env_info.agents)\n",
    "print('Number of agents:', num_agents)\n",
    "\n",
    "# size of each action\n",
    "action_size = brain.vector_action_space_size\n",
    "print('Size of each action:', action_size)\n",
    "\n",
    "# examine the state space\n",
    "states = env_info.vector_observations\n",
    "state_size = states.shape[1]\n",
    "print('There are {} agents. Each observes a state with length: {}'.format(states.shape[0], state_size))\n",
    "print('The state for the first agent looks like:', states[0])"
   ]
  },
  {
   "cell_type": "markdown",
   "metadata": {},
   "source": [
    "### 3. Training the agent with DDPG\n",
    "\n",
    "Now it's your turn to train your own agent to solve the environment!  A few **important notes**:\n",
    "- Due to connection failed to the workspace occurs frequently, it is highly recommended  to so save the weights of the agent during training epsidode and then set the ```resume_path=True``` to contiune training.\n",
    "- scores_deque is used to calculate the average score of 100 continuous episode"
   ]
  },
  {
   "cell_type": "code",
   "execution_count": 4,
   "metadata": {},
   "outputs": [
    {
     "name": "stdout",
     "output_type": "stream",
     "text": [
      " Total score (averaged over agents) this episode: 0.182\n",
      " Total score (averaged over agents) this episode: 0.196\n",
      " Total score (averaged over agents) this episode: 0.163\n",
      " Total score (averaged over agents) this episode: 0.228\n",
      " Total score (averaged over agents) this episode: 0.224\n",
      " Total score (averaged over agents) this episode: 0.268\n",
      " Total score (averaged over agents) this episode: 0.274\n",
      " Total score (averaged over agents) this episode: 0.369\n",
      " Total score (averaged over agents) this episode: 0.417\n",
      " Total score (averaged over agents) this episode: 0.527\n",
      "\n"
     ]
    }
   ],
   "source": [
    "# traing paramenter\n",
    "n_episodes = 10000\n",
    "print_every = 100\n",
    "scores_deque = deque(maxlen=print_every)\n",
    "scores_final = []\n",
    "agent = Agent(state_size, action_size, num_agents, random_seed=2,resume_path=True)\n",
    "# ----------------------- training the agents ----------------------- #\n",
    "for i_episode in range(1, n_episodes):\n",
    "    env_info = env.reset(train_mode=False)[brain_name]  # reset the environment\n",
    "    states = env_info.vector_observations  # get the current state (for each agent)\n",
    "    scores = np.zeros(num_agents)  # initialize the score (for each agent)\n",
    "    while True:\n",
    "        actions = agent.act(states)  # select an action (for each agent)\n",
    "        env_info = env.step(actions)[brain_name]  # send all actions to tne environment\n",
    "        next_states = env_info.vector_observations  # get next state (for each agent) next_states shape:(2,24)\n",
    "        rewards = env_info.rewards  # get reward (for each agent)\n",
    "        dones = env_info.local_done  # see if episode finished\n",
    "        agent.step(states, actions, rewards, next_states, dones)\n",
    "        scores += env_info.rewards  # update the score (for each agent)\n",
    "        states = next_states  # roll over states to next time step\n",
    "        if np.any(dones):  # exit loop if episode finished\n",
    "            break\n",
    "    scores_deque.append(max(scores))\n",
    "    scores_final.append(scores)\n",
    "    print('\\rEpisode {}\\tAverage Score: {:.2f}'.format(i_episode, np.mean(scores)), end=\"\")\n",
    "    if i_episode % 100 == 0:\n",
    "        print('\\r Total score (averaged over agents) this episode: {:.3f}'.format(np.mean(scores_deque)))\n",
    "    if np.mean(scores_deque)> 0.5:\n",
    "        torch.save(agent.actor_local.state_dict(), './checkpoint_actor.pth')\n",
    "        torch.save(agent.critic_local.state_dict(), './checkpoint_critic.pth')\n",
    "        break\n",
    "    if i_episode % 300 == 0:\n",
    "        torch.save(agent.actor_local.state_dict(), './checkpoint_actor_temp.pth')\n",
    "        torch.save(agent.critic_local.state_dict(), './checkpoint_critic_temp.pth')\n",
    "        \n"
   ]
  },
  {
   "cell_type": "code",
   "execution_count": 5,
   "metadata": {},
   "outputs": [
    {
     "data": {
      "image/png": "[encoded data removed]",
      "text/plain": [
       "<matplotlib.figure.Figure at 0x7fd777339a90>"
      ]
     },
     "metadata": {
      "needs_background": "light"
     },
     "output_type": "display_data"
    }
   ],
   "source": [
    "import matplotlib.pyplot as plt\n",
    "%matplotlib inline\n",
    "fig = plt.figure()\n",
    "ax = fig.add_subplot(111)\n",
    "plt.plot(np.arange(1, len(scores_final)+1), scores_final)\n",
    "plt.ylabel('Score')\n",
    "plt.xlabel('Episode #')\n",
    "plt.show()"
   ]
  },
  {
   "cell_type": "markdown",
   "metadata": {},
   "source": [
    "## Question"
   ]
  },
  {
   "cell_type": "markdown",
   "metadata": {},
   "source": [
    "in unity environment info, Number of stacked Vector Observation: 3  \n",
    "Q:given 2 agent,why there 3 Vector Observation?"
   ]
  },
  {
   "cell_type": "code",
   "execution_count": null,
   "metadata": {},
   "outputs": [],
   "source": []
  }
 ],
 "metadata": {
  "kernelspec": {
   "display_name": "Python 3",
   "language": "python",
   "name": "python3"
  },
  "language_info": {
   "codemirror_mode": {
    "name": "ipython",
    "version": 3
   },
   "file_extension": ".py",
   "mimetype": "text/x-python",
   "name": "python",
   "nbconvert_exporter": "python",
   "pygments_lexer": "ipython3",
   "version": "3.6.3"
  }
 },
 "nbformat": 4,
 "nbformat_minor": 2
}
